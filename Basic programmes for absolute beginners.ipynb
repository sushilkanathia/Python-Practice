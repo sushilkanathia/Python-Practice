{
 "cells": [
  {
   "cell_type": "markdown",
   "metadata": {},
   "source": [
    "Python Programmes for Practice\n"
   ]
  },
  {
   "cell_type": "code",
   "execution_count": 1,
   "metadata": {},
   "outputs": [
    {
     "name": "stdout",
     "output_type": "stream",
     "text": [
      "The sum of 10 and 20 is 30\n"
     ]
    }
   ],
   "source": [
    "#Add two Numbers\n",
    "\n",
    "num1 = 10\n",
    "\n",
    "num2 = 20\n",
    "\n",
    "#add of two numbers\n",
    "sum = num1 + num2\n",
    "\n",
    "\n",
    "#print the add of numbers\n",
    "print(\"The sum of {0} and {1} is {2}\".format(num1,num2,sum))\n"
   ]
  },
  {
   "cell_type": "markdown",
   "metadata": {},
   "source": [
    "Adding two Numbers by Taking user input.\n"
   ]
  },
  {
   "cell_type": "code",
   "execution_count": 2,
   "metadata": {},
   "outputs": [
    {
     "name": "stdout",
     "output_type": "stream",
     "text": [
      "Enter the first Value21\n",
      "Enter the second Value22\n",
      "The sum of 21 and 22 is 43.0\n"
     ]
    }
   ],
   "source": [
    "num1 = input(\"Enter the first Value\")\n",
    "\n",
    "num2 = input(\"Enter the second Value\")\n",
    "\n",
    "\n",
    "#here float means value should be printing in the decimal.\n",
    "\n",
    "sum = float(num1) + float(num2)\n",
    "\n",
    "print(\"The sum of {0} and {1} is {2}\".format(num1,num2,sum))"
   ]
  },
  {
   "cell_type": "markdown",
   "metadata": {},
   "source": [
    "Programm to find the square root of postive numbers."
   ]
  },
  {
   "cell_type": "code",
   "execution_count": 2,
   "metadata": {},
   "outputs": [
    {
     "name": "stdout",
     "output_type": "stream",
     "text": [
      "The square root of 8.000 is 2.828\n"
     ]
    }
   ],
   "source": [
    "\n",
    "num = 8\n",
    "\n",
    "#Find the square root of 8\n",
    "squ_root = num ** 0.5\n",
    "\n",
    "print('The square root of %0.3f is %0.3f'%(num,squ_root))"
   ]
  },
  {
   "cell_type": "code",
   "execution_count": 1,
   "metadata": {},
   "outputs": [
    {
     "name": "stdout",
     "output_type": "stream",
     "text": [
      "Enter the value\n",
      "8\n",
      "The square root of 8.000 is 2.828\n"
     ]
    }
   ],
   "source": [
    "#To take the input by user for find the root of any postive number.\n",
    "\n",
    "#Taking a input by the user.\n",
    "\n",
    "num = float(input(\"Enter the value\\n\"))\n",
    "\n",
    "#find the square root of num.\n",
    "\n",
    "sqr_root = num ** 0.5\n",
    "\n",
    "#print the square root of num.\n",
    "\n",
    "print('The square root of %0.3f is %0.3f'%(num,sqr_root))"
   ]
  },
  {
   "cell_type": "markdown",
   "metadata": {},
   "source": [
    "Calculate the area of a Triangle."
   ]
  },
  {
   "cell_type": "code",
   "execution_count": 5,
   "metadata": {},
   "outputs": [
    {
     "name": "stdout",
     "output_type": "stream",
     "text": [
      "Enter the first side2\n",
      "Enter the second side2\n",
      "Enter the third side2\n",
      "The value of s is 3.00 \n",
      "The area of a triangle is 1.73\n"
     ]
    }
   ],
   "source": [
    "#Program to caluculate the area of a Triangle\n",
    "\n",
    "\n",
    "#Taking input by a user\n",
    "a = float(input(\"Enter the first side\"))\n",
    "\n",
    "b = float(input(\"Enter the second side\"))\n",
    "\n",
    "c = float(input(\"Enter the third side\"))\n",
    "\n",
    "#find the semi-perimeter of the triangle\n",
    "s = (a+b+c) / 2\n",
    "\n",
    "#Print the value of s\n",
    "print(\"The value of s is %0.2f \"%s)\n",
    "\n",
    "#find the area of an triangle using this formule\n",
    "area = (s*(s-a)*(s-b)*(s-c)) ** 0.5\n",
    "\n",
    "#Print the area of a triangle\n",
    "print(\"The area of a triangle is %0.2f\" %area)"
   ]
  },
  {
   "cell_type": "markdown",
   "metadata": {},
   "source": [
    "The standard form of quadratic equation is:\n",
    "\n",
    "ax*x +bx + c = 0\n",
    "\n",
    "where a,b,c are real numbers\n",
    "\n",
    "and a does not equal to 0."
   ]
  },
  {
   "cell_type": "code",
   "execution_count": 10,
   "metadata": {},
   "outputs": [
    {
     "name": "stdout",
     "output_type": "stream",
     "text": [
      "The value of d is 1.00\n",
      "The two roots are (-2+0j) and (-3+0j)\n"
     ]
    }
   ],
   "source": [
    "#import complex math module\n",
    "\n",
    "import cmath\n",
    "\n",
    "#assign a value\n",
    "\n",
    "#you can also take a value by a user like\n",
    "\n",
    "#a = float(input(\"Enter the value of a\"))\n",
    "a = 1\n",
    "\n",
    "b = 5\n",
    "\n",
    "c = 6\n",
    "\n",
    "#calculate the discriminant\n",
    "d = (b**2) - 4*a*c\n",
    "\n",
    "#print the value of d\n",
    "print(\"The value of d is %0.2f\" %d)\n",
    "\n",
    "#Find two solutions\n",
    "sol1 = (-b + cmath.sqrt(d)) / (2 * a)\n",
    "\n",
    "sol2 = (-b - cmath.sqrt(d)) / (2 * a)\n",
    "\n",
    "#find the two roots in complex format\n",
    "print('The two roots are {0} and {1}'.format(sol1,sol2))"
   ]
  },
  {
   "cell_type": "code",
   "execution_count": 12,
   "metadata": {},
   "outputs": [
    {
     "name": "stdout",
     "output_type": "stream",
     "text": [
      "The value of x after swapping: 7\n",
      "The value of y after swapping: 2\n"
     ]
    }
   ],
   "source": [
    "#Python program to swap two variables value using third variable\n",
    "\n",
    "#assign a value\n",
    "x = 2\n",
    "\n",
    "y = 7\n",
    "\n",
    "#to take inputs from the user\n",
    "\n",
    "# x = input(\"Enter the value of x\")\n",
    "\n",
    "# y = input(\"Enter the value of y\")\n",
    "\n",
    "temp = x\n",
    "\n",
    "x = y\n",
    "\n",
    "y = temp\n",
    "\n",
    "print(\"The value of x after swapping: {}\".format(x))\n",
    "\n",
    "print(\"The value of y after swapping: {}\".format(y))"
   ]
  },
  {
   "cell_type": "markdown",
   "metadata": {},
   "source": [
    "Generating a Random number"
   ]
  },
  {
   "cell_type": "code",
   "execution_count": 15,
   "metadata": {},
   "outputs": [
    {
     "name": "stdout",
     "output_type": "stream",
     "text": [
      "8\n"
     ]
    }
   ],
   "source": [
    "#To generate a random number in python, randint() function is used .This function is defined in random module.\n",
    "\n",
    "#Program to generate a random number between 0 and 9\n",
    "\n",
    "import random\n",
    "\n",
    "print(random.randint(0,9))"
   ]
  },
  {
   "cell_type": "markdown",
   "metadata": {},
   "source": [
    "Converting kilometers to Miles"
   ]
  },
  {
   "cell_type": "code",
   "execution_count": 17,
   "metadata": {},
   "outputs": [
    {
     "name": "stdout",
     "output_type": "stream",
     "text": [
      "Enter value in kilometers:4\n",
      "4.00 kilometers is equal to 2.49 miles\n"
     ]
    }
   ],
   "source": [
    "#Taking kilometers input from the user\n",
    "kilometers = float(input(\"Enter value in kilometers:\"))\n",
    "\n",
    "#Conversion factor\n",
    "conv_factor = 0.621371\n",
    "\n",
    "\n",
    "#caluclate miles\n",
    "miles = kilometers * conv_factor\n",
    "\n",
    "#You can also convert miles into kilometer using the following formulat and run it\n",
    "# kilometers = mile/con_fact\n",
    "print(\"%0.2f kilometers is equal to %0.2f miles\" %(kilometers,miles))"
   ]
  },
  {
   "cell_type": "markdown",
   "metadata": {},
   "source": [
    "Check the number whether the entered number is even or odd."
   ]
  },
  {
   "cell_type": "code",
   "execution_count": 2,
   "metadata": {},
   "outputs": [
    {
     "name": "stdout",
     "output_type": "stream",
     "text": [
      "Enter a number3\n",
      "Odd number\n"
     ]
    }
   ],
   "source": [
    "#using if .... else..... elif\n",
    "\n",
    "num = float(input(\"Enter a number\"))\n",
    "\n",
    "if num%2 == 0:\n",
    "    print(\"Even Number\")\n",
    "    \n",
    "elif num == 0:\n",
    "    print(\"Zero\")\n",
    "    \n",
    "else:\n",
    "    print(\"Odd number\")"
   ]
  },
  {
   "cell_type": "markdown",
   "metadata": {},
   "source": [
    "Check whether the year is leap or not"
   ]
  },
  {
   "cell_type": "code",
   "execution_count": 3,
   "metadata": {},
   "outputs": [
    {
     "name": "stdout",
     "output_type": "stream",
     "text": [
      "2000 is a leap year\n"
     ]
    }
   ],
   "source": [
    "#Python program to check if year is a leap year or not\n",
    "\n",
    "year = 2000\n",
    "#to get year (integar input) form the user\n",
    "#year = int(input)(\"Enter a year\")\n",
    "\n",
    "#if statement\n",
    "if (year % 4) == 0:\n",
    "    if (year % 100) == 0:\n",
    "        if (year % 10) == 0:\n",
    "            print(\"{0} is a leap year\".format(year))\n",
    "        else:\n",
    "            print(\"{0} is a not a leap year\".format(year))\n",
    "    else:\n",
    "        print(\"{0} is a leap year\".format(year))\n",
    "else:\n",
    "    print(\"{0} is not a leap year\".format(year))"
   ]
  },
  {
   "cell_type": "markdown",
   "metadata": {},
   "source": [
    "|Check Largest number among three numbers.|\n"
   ]
  },
  {
   "cell_type": "code",
   "execution_count": 17,
   "metadata": {},
   "outputs": [
    {
     "name": "stdout",
     "output_type": "stream",
     "text": [
      "The largest number is 14\n"
     ]
    }
   ],
   "source": [
    "#python program to find the largest number among the three input\n",
    "\n",
    "num1 = 10\n",
    "num2 = 14\n",
    "num3 = 12\n",
    "\n",
    "#for take input by the user \n",
    "\n",
    "#num1 = float(input(\"Enter the first value\"))\n",
    " # and so on you can set as many variable according to your choose.\n",
    "    \n",
    "if (num1>num2) and (num1>num2):\n",
    "    largest = num1\n",
    "elif (num2>num1) and (num2>num3):\n",
    "    largest = num2\n",
    "else:\n",
    "    largest = num3\n",
    "    \n",
    "print(\"The largest number is\",largest)"
   ]
  },
  {
   "cell_type": "code",
   "execution_count": 1,
   "metadata": {},
   "outputs": [
    {
     "name": "stdout",
     "output_type": "stream",
     "text": [
      "12 X 1 = 12\n",
      "12 X 2 = 24\n",
      "12 X 3 = 36\n",
      "12 X 4 = 48\n",
      "12 X 5 = 60\n",
      "12 X 6 = 72\n",
      "12 X 7 = 84\n",
      "12 X 8 = 96\n",
      "12 X 9 = 108\n",
      "12 X 10 = 120\n"
     ]
    }
   ],
   "source": [
    "#In this program we have used the for loop to display the multiplation table of 12.\n",
    "\n",
    "num = 12\n",
    "#to take input from the user\n",
    "#num = int(input(\"Enter the value to display multiplication table of?\"))\n",
    "for i in range(1,11):\n",
    "    print(num,'X',i,'=',num*i)"
   ]
  },
  {
   "cell_type": "code",
   "execution_count": null,
   "metadata": {},
   "outputs": [],
   "source": []
  }
 ],
 "metadata": {
  "kernelspec": {
   "display_name": "Python 3",
   "language": "python",
   "name": "python3"
  },
  "language_info": {
   "codemirror_mode": {
    "name": "ipython",
    "version": 3
   },
   "file_extension": ".py",
   "mimetype": "text/x-python",
   "name": "python",
   "nbconvert_exporter": "python",
   "pygments_lexer": "ipython3",
   "version": "3.7.6"
  }
 },
 "nbformat": 4,
 "nbformat_minor": 4
}
